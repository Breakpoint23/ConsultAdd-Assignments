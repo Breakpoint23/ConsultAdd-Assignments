{
 "cells": [
  {
   "cell_type": "markdown",
   "metadata": {},
   "source": [
    "1. Write a program in Python to perform the following operation:\n",
    "    - If a number is divisible by 3 it should print “Consultadd” as a string\n",
    "    - If a number is divisible by 5 it should print “Python Training” as a string\n",
    "    - If a number is divisible by both 3 and 5 it should print “Consultadd - Python Training” as a"
   ]
  },
  {
   "cell_type": "code",
   "execution_count": null,
   "metadata": {},
   "outputs": [],
   "source": [
    "def check(x):\n",
    "    a=x%3\n",
    "    b=x%5\n",
    "    if a and b:\n",
    "        print(\"Consultadd-Python Training\")\n",
    "        return None\n",
    "    elif a:\n",
    "        print(\"Consultadd\")\n",
    "        return None\n",
    "    elif b:\n",
    "        print(\"Python Training\")\n",
    "        return None\n",
    "    else:\n",
    "        print(\"Number is divisible by 3 or 5\")\n",
    "        return None\n",
    "        "
   ]
  },
  {
   "cell_type": "markdown",
   "metadata": {},
   "source": [
    "2. Write a program in Python to perform the following operator based task:\n",
    "- Ask user to choose the following option first:\n",
    "    - If User Enter 1 - Addition\n",
    "    - If User Enter 2 - Subtraction\n",
    "    - If User Enter 3 - Division\n",
    "    - If User Enter 4 - Multiplication\n",
    "    - If User Enter 5 - Average\n",
    "- Ask user to enter two numbers and keep those numbers in variables num1 and num2 respectively for the first 4 options mentioned above.\n",
    "- Ask the user to enter two more numbers as first and second for calculating the average as soon as the user chooses an option 5.\n",
    "- At the end if the answer of any operation is Negative print a statement saying “NEGATIVE”\n",
    "NOTE: At a time a user can only perform one action."
   ]
  },
  {
   "cell_type": "code",
   "execution_count": 4,
   "metadata": {},
   "outputs": [
    {
     "name": "stdout",
     "output_type": "stream",
     "text": [
      "Result:  -40\n",
      "Result is negative\n"
     ]
    }
   ],
   "source": [
    "def Operations():\n",
    "    repeat=\"\"\n",
    "    l=[1,2,3,4]\n",
    "    while repeat!=\"n\":\n",
    "        op=int(input(\"Enter 1 for addition, 2 for subtraction, 3 for division, 4 for multiplication and 5 for Average: \"))\n",
    "        if op in l:\n",
    "            num1=int(input(\"Enter first number: \"))\n",
    "            num2=int(input(\"Enter second number: \"))\n",
    "            if op==1:\n",
    "                result=num1+num2\n",
    "            elif op==2:\n",
    "                result=num1-num2\n",
    "            elif op==3:\n",
    "                result=num1/num2\n",
    "            elif op==4:\n",
    "                result=num1*num2\n",
    "        elif op==5:\n",
    "            result=(num1+num2)/2\n",
    "        print(\"Result: \",result)\n",
    "        if result<0:\n",
    "            print(\"Result is negative\")\n",
    "        repeat=input(\"Do you want to repeat? (y/n): \")\n",
    "    return None\n",
    "\n",
    "Operations()\n"
   ]
  },
  {
   "cell_type": "markdown",
   "metadata": {},
   "source": [
    "3. Write a program to follow certain flow-chart"
   ]
  },
  {
   "cell_type": "code",
   "execution_count": null,
   "metadata": {},
   "outputs": [],
   "source": [
    "def Flow():\n",
    "    a,b,c=int(input(\"Enter first number: \")),int(input(\"Enter second number: \")),int(input(\"Enter third number: \"))\n",
    "    avg=(a+b+c)/3\n",
    "    print(\"Average: \",avg)\n",
    "    if avg>a and avg>b and avg>c:\n",
    "        print(\"Average is higher than a,b,c\")\n",
    "    elif avg>a and avg>b:\n",
    "        print(\"Average is higher than a,b\")\n",
    "    elif avg>a and avg>c:\n",
    "        print(\"Average is higher than a,c\")\n",
    "    elif avg>b and avg>c:\n",
    "        print(\"Average is higher than b,c\")\n",
    "    elif avg>a:\n",
    "        print(\"Average is just higher than a\")\n",
    "    elif avg>b:\n",
    "        print(\"Average is just higher than b\")\n",
    "    elif avg>c:\n",
    "        print(\"Average is just higher than c\")\n",
    "    return None\n",
    "\n",
    "Flow()"
   ]
  },
  {
   "cell_type": "markdown",
   "metadata": {},
   "source": [
    "4. Write a program in Python to break and continue if the following cases occurs:\n",
    "- If user enters a negative number just break the loop and print “It’s Over”\n",
    "- If user enters a positive number just continue in the loop and print “Good Going”"
   ]
  },
  {
   "cell_type": "code",
   "execution_count": 5,
   "metadata": {},
   "outputs": [
    {
     "name": "stdout",
     "output_type": "stream",
     "text": [
      "Good Going\n",
      "Good Going\n",
      "Good Going\n",
      "It's Over\n"
     ]
    }
   ],
   "source": [
    "def foo():\n",
    "    a=int(input(\"Enter a number: \"))\n",
    "    if a>0:\n",
    "        print(\"Good Going\")\n",
    "        foo()\n",
    "    else:\n",
    "        print(\"It's Over\")\n",
    "        return None\n",
    "\n",
    "foo()\n"
   ]
  },
  {
   "cell_type": "markdown",
   "metadata": {},
   "source": [
    "5. Write a program in Python which will find all such numbers which are divisible by 7 but are not a\n",
    "multiple of 5, between 2000 and 3200."
   ]
  },
  {
   "cell_type": "code",
   "execution_count": 6,
   "metadata": {},
   "outputs": [
    {
     "name": "stdout",
     "output_type": "stream",
     "text": [
      "2002,\n",
      "2009,\n",
      "2016,\n",
      "2023,\n",
      "2037,\n",
      "2044,\n",
      "2051,\n",
      "2058,\n",
      "2072,\n",
      "2079,\n",
      "2086,\n",
      "2093,\n",
      "2107,\n",
      "2114,\n",
      "2121,\n",
      "2128,\n",
      "2142,\n",
      "2149,\n",
      "2156,\n",
      "2163,\n",
      "2177,\n",
      "2184,\n",
      "2191,\n",
      "2198,\n",
      "2212,\n",
      "2219,\n",
      "2226,\n",
      "2233,\n",
      "2247,\n",
      "2254,\n",
      "2261,\n",
      "2268,\n",
      "2282,\n",
      "2289,\n",
      "2296,\n",
      "2303,\n",
      "2317,\n",
      "2324,\n",
      "2331,\n",
      "2338,\n",
      "2352,\n",
      "2359,\n",
      "2366,\n",
      "2373,\n",
      "2387,\n",
      "2394,\n",
      "2401,\n",
      "2408,\n",
      "2422,\n",
      "2429,\n",
      "2436,\n",
      "2443,\n",
      "2457,\n",
      "2464,\n",
      "2471,\n",
      "2478,\n",
      "2492,\n",
      "2499,\n",
      "2506,\n",
      "2513,\n",
      "2527,\n",
      "2534,\n",
      "2541,\n",
      "2548,\n",
      "2562,\n",
      "2569,\n",
      "2576,\n",
      "2583,\n",
      "2597,\n",
      "2604,\n",
      "2611,\n",
      "2618,\n",
      "2632,\n",
      "2639,\n",
      "2646,\n",
      "2653,\n",
      "2667,\n",
      "2674,\n",
      "2681,\n",
      "2688,\n",
      "2702,\n",
      "2709,\n",
      "2716,\n",
      "2723,\n",
      "2737,\n",
      "2744,\n",
      "2751,\n",
      "2758,\n",
      "2772,\n",
      "2779,\n",
      "2786,\n",
      "2793,\n",
      "2807,\n",
      "2814,\n",
      "2821,\n",
      "2828,\n",
      "2842,\n",
      "2849,\n",
      "2856,\n",
      "2863,\n",
      "2877,\n",
      "2884,\n",
      "2891,\n",
      "2898,\n",
      "2912,\n",
      "2919,\n",
      "2926,\n",
      "2933,\n",
      "2947,\n",
      "2954,\n",
      "2961,\n",
      "2968,\n",
      "2982,\n",
      "2989,\n",
      "2996,\n",
      "3003,\n",
      "3017,\n",
      "3024,\n",
      "3031,\n",
      "3038,\n",
      "3052,\n",
      "3059,\n",
      "3066,\n",
      "3073,\n",
      "3087,\n",
      "3094,\n",
      "3101,\n",
      "3108,\n",
      "3122,\n",
      "3129,\n",
      "3136,\n",
      "3143,\n",
      "3157,\n",
      "3164,\n",
      "3171,\n",
      "3178,\n",
      "3192,\n",
      "3199,\n"
     ]
    }
   ],
   "source": [
    "for i in range(2000,3201):\n",
    "    if i%7==0 and i%5!=0:\n",
    "        print(f\"{i},\")"
   ]
  },
  {
   "cell_type": "markdown",
   "metadata": {},
   "source": [
    "# 6) What is the output of the following code examples?\n",
    "\n",
    "1. Will give an error since int object is not iterable \n",
    "2. it'll print (0,error,1,error,2) | It'll give error for every value of i which is not 3 since it reaches there and loop breaks\n",
    "3. 0,1,2,3,4"
   ]
  },
  {
   "cell_type": "markdown",
   "metadata": {},
   "source": [
    "7. Write a program that prints all the numbers from 0 to 6 except 3 and 6.\n",
    "Expected output: 0 1 2 4 5"
   ]
  },
  {
   "cell_type": "code",
   "execution_count": 11,
   "metadata": {},
   "outputs": [
    {
     "name": "stdout",
     "output_type": "stream",
     "text": [
      "0\n",
      "1\n",
      "2\n",
      "4\n",
      "5\n"
     ]
    }
   ],
   "source": [
    "for i in range(6):\n",
    "    if i==3:\n",
    "        continue\n",
    "    print(i)"
   ]
  },
  {
   "cell_type": "markdown",
   "metadata": {},
   "source": [
    "8. Write a program that accepts a string as an input from the user and calculate the number of digits\n",
    "and letters.\n",
    "Sample input: consul72\n",
    "Expected output: Letters 6 Digits 2"
   ]
  },
  {
   "cell_type": "code",
   "execution_count": 13,
   "metadata": {},
   "outputs": [
    {
     "name": "stdout",
     "output_type": "stream",
     "text": [
      "Letters:  15\n",
      "Numbers:  2\n"
     ]
    }
   ],
   "source": [
    "def strint():\n",
    "    a=input(\"Enter a string: \")\n",
    "    letter=0\n",
    "    nums=0\n",
    "    for char in a:\n",
    "        try:\n",
    "            int(char)\n",
    "            nums+=1\n",
    "        except:\n",
    "            letter+=1\n",
    "    print(\"Letters: \",letter)\n",
    "    print(\"Digits: \",nums)\n",
    "    return None\n",
    "\n",
    "strint()\n"
   ]
  },
  {
   "cell_type": "markdown",
   "metadata": {},
   "source": [
    "9. Read the two parts of the question below:\n",
    "- Write a program such that it asks users to “guess the lucky number”. If the correct number is\n",
    "guessed the program stops, otherwise it continues forever.\n",
    "\n",
    "- Modify the program so that it asks users whether they want to guess again each time. Use two\n",
    "variables, ‘number’ for the number and ‘answer’ for the answer to the question whether they want\n",
    "to continue guessing. The program stops if the user guesses the correct number or answers “no”. (\n",
    "The program continues as long as a user has not answered “no” and has not guessed the correct\n",
    "number)"
   ]
  },
  {
   "cell_type": "code",
   "execution_count": 2,
   "metadata": {},
   "outputs": [
    {
     "name": "stdout",
     "output_type": "stream",
     "text": [
      "Guess a number between 1 and 1500\n",
      "Congratulations\n"
     ]
    }
   ],
   "source": [
    "import random\n",
    "def guess():\n",
    "    lucky_num=random.randint(1,1500)\n",
    "    print(\"Guess a number between 1 and 1500\")\n",
    "    repeat=\"\"\n",
    "    while repeat!=\"no\":\n",
    "        guess=int(input(\"Enter your guess: \"))\n",
    "        if guess==lucky_num:\n",
    "            print(f\"Congratulations you guessed it right: {lucky_num}\")\n",
    "            break\n",
    "        repeat=input(\"Do you want to repeat? (yes/no): \")\n",
    "\n",
    "guess()\n",
    "        \n",
    "\n"
   ]
  },
  {
   "cell_type": "markdown",
   "metadata": {},
   "source": [
    "# Question 10,11"
   ]
  },
  {
   "cell_type": "code",
   "execution_count": 5,
   "metadata": {},
   "outputs": [
    {
     "name": "stdout",
     "output_type": "stream",
     "text": [
      "Guess a number between 1 and 1500\n",
      "Try Again\n",
      "Try Again\n",
      "Try Again\n",
      "Try Again\n",
      "Game Over, the number was 1201\n"
     ]
    }
   ],
   "source": [
    "c=0\n",
    "lucky_num=random.randint(1,1500)\n",
    "print(\"Guess a number between 1 and 1500\")\n",
    "while c<5:\n",
    "    guess=int(input(\"Enter your guess: \"))\n",
    "    if guess==lucky_num:\n",
    "        print(\"Good Guess\")\n",
    "        break\n",
    "    elif c==4:\n",
    "        print(f\"Game Over, the number was {lucky_num}\")\n",
    "    else:\n",
    "        print(\"Try Again\")\n",
    "    c+=1\n"
   ]
  }
 ],
 "metadata": {
  "kernelspec": {
   "display_name": "activity_class",
   "language": "python",
   "name": "activity_class"
  },
  "language_info": {
   "codemirror_mode": {
    "name": "ipython",
    "version": 3
   },
   "file_extension": ".py",
   "mimetype": "text/x-python",
   "name": "python",
   "nbconvert_exporter": "python",
   "pygments_lexer": "ipython3",
   "version": "3.10.4"
  },
  "orig_nbformat": 4,
  "vscode": {
   "interpreter": {
    "hash": "ead1b95f633dc9c51826328e1846203f51a198c6fb5f2884a80417ba131d4e82"
   }
  }
 },
 "nbformat": 4,
 "nbformat_minor": 2
}
