{
 "cells": [
  {
   "cell_type": "markdown",
   "metadata": {},
   "source": [
    "1. Create a list of 10 elements of four different data types like int, string, complex and float."
   ]
  },
  {
   "cell_type": "code",
   "execution_count": null,
   "metadata": {},
   "outputs": [],
   "source": [
    "l=[complex(1,1),1.0,1,\"ekgnrogte\",10.5,complex(1,2),\"ert\",\"\",2,10]\n"
   ]
  },
  {
   "cell_type": "markdown",
   "metadata": {},
   "source": [
    "2. Create a list of size 5 and execute the slicing structure"
   ]
  },
  {
   "cell_type": "code",
   "execution_count": 14,
   "metadata": {},
   "outputs": [
    {
     "name": "stdout",
     "output_type": "stream",
     "text": [
      "list is [0, 1, 2, 3, 4]\n",
      "last element of list is 4\n",
      "first element of list is 0\n",
      "list in reverse order is [4, 3, 2, 1, 0]\n",
      "[4, 2, 0]\n"
     ]
    }
   ],
   "source": [
    "l=[0,1,2,3,4]\n",
    "print(f\"list is {l}\")\n",
    "print(f\"last element of list is {l[-1]}\")\n",
    "print(f\"first element of list is {l[0]}\")\n",
    "print(f\"list in reverse order is {l[::-1]}\")\n",
    "print(f\"list in reverse order in 2 steps{l[5::-2]}\")\n",
    "\n",
    "\"\"\"\n",
    "To slice a list, you use the following syntax:\n",
    "l[start:end:step]\n",
    "where start is the index of the first element you want to include in the slice,end is the index of the first element you want to exclude from the slice, and step is the number of elements you want to skip between each element in the slice.\n",
    "\"\"\""
   ]
  },
  {
   "cell_type": "markdown",
   "metadata": {},
   "source": [
    "3. Write a program to get the sum and multiply of all the items in a given list."
   ]
  },
  {
   "cell_type": "code",
   "execution_count": null,
   "metadata": {},
   "outputs": [],
   "source": [
    "def add_mul(l):\n",
    "    sum=0\n",
    "    mul=1\n",
    "    for i in l:\n",
    "        sum+=i\n",
    "        mul*=i\n",
    "    print(f\"sum of list is {sum}\")\n",
    "    print(f\"multiplication of list is {mul}\")\n",
    "    return sum,mul\n",
    "    \n"
   ]
  },
  {
   "cell_type": "markdown",
   "metadata": {},
   "source": [
    "4. Find the largest and smallest number from a given list."
   ]
  },
  {
   "cell_type": "code",
   "execution_count": null,
   "metadata": {},
   "outputs": [],
   "source": [
    "def max_min(l):\n",
    "    max=l[0]\n",
    "    min=l[0]\n",
    "    for i in l:\n",
    "        if i>max:\n",
    "            max=i\n",
    "        if i<min:\n",
    "            min=i\n",
    "    print(f\"max of list is {max}\")\n",
    "    print(f\"min of list is {min}\")\n",
    "    return max,min\n",
    "\n",
    "# Or you can use the following code\n",
    "\n",
    "maximum=max(l)\n",
    "minimum=min(l)\n",
    "print(f\"max of list is {maximum}\")\n",
    "print(f\"min of list is {minimum}\")"
   ]
  },
  {
   "cell_type": "markdown",
   "metadata": {},
   "source": [
    "5. Create a new list which contains the specified numbers after removing the even numbers from a\n",
    "predefined list."
   ]
  },
  {
   "cell_type": "code",
   "execution_count": null,
   "metadata": {},
   "outputs": [],
   "source": [
    "def rm_even(l):\n",
    "    for i in l:\n",
    "        if i%2==0:\n",
    "            l.remove(i)\n",
    "    print(f\"list after removing even numbers is {l}\")\n",
    "    return l\n"
   ]
  },
  {
   "cell_type": "markdown",
   "metadata": {},
   "source": [
    "6. Create a list of elements such that it contains the squares of the first and last 5 elements between\n",
    "1 and30 (both included)."
   ]
  },
  {
   "cell_type": "code",
   "execution_count": 22,
   "metadata": {},
   "outputs": [
    {
     "name": "stdout",
     "output_type": "stream",
     "text": [
      "[4, 625, 676, 729, 784, 841]\n"
     ]
    }
   ],
   "source": [
    "x=range(2,30)\n",
    "x=[x[0]]+list(x[-5:])\n",
    "ans=[i**2 for i in x]\n",
    "print(ans)"
   ]
  },
  {
   "cell_type": "markdown",
   "metadata": {},
   "source": [
    "7. Write a program to replace the last element in a list with another list.\n",
    "Sample input: [1,3,5,7,9,10], [2,4,6,8]\n",
    "Expected output: [1,3,5,7,9,2,4,6,8]"
   ]
  },
  {
   "cell_type": "code",
   "execution_count": 23,
   "metadata": {},
   "outputs": [
    {
     "name": "stdout",
     "output_type": "stream",
     "text": [
      "[1, 2, 4, 5, 6]\n"
     ]
    }
   ],
   "source": [
    "def rm_add(l1,l2):\n",
    "    return l1[:-1]+l2\n",
    "\n",
    "l1=[1,2,3]\n",
    "l2=[4,5,6]\n",
    "print(rm_add(l1,l2))"
   ]
  },
  {
   "cell_type": "markdown",
   "metadata": {},
   "source": [
    "8. Create a new dictionary by concatenating the following two dictionaries:\n",
    "Sample input: a={1:10,2:20} b={3:30,4:40}\n",
    "Expected output: {1:10,2:20,3:30,4:40}"
   ]
  },
  {
   "cell_type": "code",
   "execution_count": 24,
   "metadata": {},
   "outputs": [
    {
     "name": "stdout",
     "output_type": "stream",
     "text": [
      "{1: 2, 3: 4, 5: 6, 7: 8, 9: 10, 11: 12}\n"
     ]
    }
   ],
   "source": [
    "a={1:2,3:4,5:6}\n",
    "b={7:8,9:10,11:12}\n",
    "a.update(b)\n",
    "print(a)"
   ]
  },
  {
   "cell_type": "markdown",
   "metadata": {},
   "source": [
    "9. Create a dictionary that contain numbers in the form(x:x*x) where x takes all the values between 1\n",
    "and n(both 1 and n included).\n",
    "Sample input: n=5\n",
    "Expected output: {1:1, 2:4, 3:9, 4:16, 5:25}"
   ]
  },
  {
   "cell_type": "code",
   "execution_count": 25,
   "metadata": {},
   "outputs": [
    {
     "name": "stdout",
     "output_type": "stream",
     "text": [
      "{1: 1, 2: 4, 3: 9, 4: 16, 5: 25}\n"
     ]
    }
   ],
   "source": [
    "def create_dict(n: int):\n",
    "    return {i:i**2 for i in range(1,n+1)}\n",
    "print(create_dict(5))"
   ]
  },
  {
   "cell_type": "markdown",
   "metadata": {},
   "source": [
    "10. Write a program which accepts a sequence of comma-separated numbers from console and\n",
    "generates a list and a tuple which contains every number in the form of string.\n",
    "Sample input: 34,67,55,33,12,98\n",
    "Expected output: [‘34’,’67’,’55’,’33’,’12’,’98’] (‘34’,’67’,’55’,’33’,’12’,’98’)"
   ]
  },
  {
   "cell_type": "code",
   "execution_count": 28,
   "metadata": {},
   "outputs": [
    {
     "name": "stdout",
     "output_type": "stream",
     "text": [
      "['1', '2', '3', '4', '5'] ('1', '2', '3', '4', '5')\n"
     ]
    }
   ],
   "source": [
    "def get_nums():\n",
    "    nums=input(\"Enter numbers separated by comma: \").split(\",\")\n",
    "    return nums,tuple(i for i in nums)\n",
    "a,b=get_nums()\n",
    "print(a,b)\n"
   ]
  }
 ],
 "metadata": {
  "kernelspec": {
   "display_name": "activity_class",
   "language": "python",
   "name": "activity_class"
  },
  "language_info": {
   "codemirror_mode": {
    "name": "ipython",
    "version": 3
   },
   "file_extension": ".py",
   "mimetype": "text/x-python",
   "name": "python",
   "nbconvert_exporter": "python",
   "pygments_lexer": "ipython3",
   "version": "3.10.4"
  },
  "orig_nbformat": 4,
  "vscode": {
   "interpreter": {
    "hash": "ead1b95f633dc9c51826328e1846203f51a198c6fb5f2884a80417ba131d4e82"
   }
  }
 },
 "nbformat": 4,
 "nbformat_minor": 2
}
