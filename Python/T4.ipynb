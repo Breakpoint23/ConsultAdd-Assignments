{
 "cells": [
  {
   "cell_type": "markdown",
   "metadata": {},
   "source": [
    "1. Write a program to reverse a string.\n",
    "Sample input: “1234abcd”\n",
    "Expected output: “dcba4321”"
   ]
  },
  {
   "cell_type": "code",
   "execution_count": 1,
   "metadata": {},
   "outputs": [
    {
     "name": "stdout",
     "output_type": "stream",
     "text": [
      "!dlroW olleH\n"
     ]
    }
   ],
   "source": [
    "def rev_str(s:str)->str:\n",
    "    return s[::-1]\n",
    "\n",
    "print(rev_str(\"Hello World!\"))"
   ]
  },
  {
   "cell_type": "markdown",
   "metadata": {},
   "source": [
    "2. Write a function that accepts a string and prints the number of uppercase letters and lowercase\n",
    "letters.\n",
    "Sample input: “abcSdefPghijQkl”\n",
    "Expected Output: No. of Uppercase characters : 3 No. of Lower case Characters : 12"
   ]
  },
  {
   "cell_type": "code",
   "execution_count": 2,
   "metadata": {},
   "outputs": [
    {
     "name": "stdout",
     "output_type": "stream",
     "text": [
      "(2, 8)\n"
     ]
    }
   ],
   "source": [
    "def up_low_counter(s:str)->tuple:\n",
    "    up = 0\n",
    "    low = 0\n",
    "    for c in s:\n",
    "        if c.isupper():\n",
    "            up += 1\n",
    "        elif c.islower():\n",
    "            low += 1\n",
    "    return (up, low)\n",
    "\n",
    "print(up_low_counter(\"Hello World!\"))"
   ]
  },
  {
   "cell_type": "markdown",
   "metadata": {},
   "source": [
    "3. Create a function that takes a list and returns a new list with unique elements of the first list."
   ]
  },
  {
   "cell_type": "code",
   "execution_count": 3,
   "metadata": {},
   "outputs": [
    {
     "name": "stdout",
     "output_type": "stream",
     "text": [
      "[1, 2, 3, 4, 5]\n"
     ]
    }
   ],
   "source": [
    "def unique(l:list)->list:\n",
    "    return list(set(l))\n",
    "\n",
    "print(unique([1,1,1,1,2,2,3,3,3,3,4,5]))"
   ]
  },
  {
   "cell_type": "markdown",
   "metadata": {},
   "source": [
    "4. Write a program that accepts a hyphen-separated sequence of words as input and prints the words\n",
    "in a hyphen-separated sequence after sorting them alphabetically."
   ]
  },
  {
   "cell_type": "code",
   "execution_count": 12,
   "metadata": {},
   "outputs": [
    {
     "name": "stdout",
     "output_type": "stream",
     "text": [
      "['a', 'bvb']\n"
     ]
    }
   ],
   "source": [
    "def in_sort()->list:\n",
    "    l=input(\"Enter hyphen separated words: \").split(\"-\")   \n",
    "    l.sort()      \n",
    "    return l\n",
    "print(in_sort())"
   ]
  },
  {
   "cell_type": "markdown",
   "metadata": {},
   "source": [
    "5. Write a program that accepts a sequence of lines as input and prints the lines after making all\n",
    "characters in the sentence capitalized.\n",
    "Sample input: Hello world Practice makes man perfect\n",
    "Expected output: HELLO WORLD PRACTICE MAKES MAN PERFECT"
   ]
  },
  {
   "cell_type": "code",
   "execution_count": 14,
   "metadata": {},
   "outputs": [
    {
     "name": "stdout",
     "output_type": "stream",
     "text": [
      "JWRGFRWN ERNGON  ELKFNKEN G\n"
     ]
    }
   ],
   "source": [
    "def cap()->str:\n",
    "    s=input(\"Enter a sentence: \")\n",
    "    return s.upper()\n",
    "print(cap())"
   ]
  },
  {
   "cell_type": "markdown",
   "metadata": {},
   "source": [
    "6. Define a function that can receive two integral numbers in string form and compute their sum and\n",
    "print it in the console."
   ]
  },
  {
   "cell_type": "code",
   "execution_count": 16,
   "metadata": {},
   "outputs": [
    {
     "name": "stdout",
     "output_type": "stream",
     "text": [
      "21\n"
     ]
    }
   ],
   "source": [
    "def two_nums()->int:\n",
    "    a=int(input(\"Enter a number: \"))\n",
    "    b=int(input(\"Enter another number: \"))\n",
    "    return a+b\n",
    "print(two_nums())"
   ]
  },
  {
   "cell_type": "markdown",
   "metadata": {},
   "source": [
    "7. Define a function that can accept two strings as input and print the string with the maximum length\n",
    "in the console. If two strings have the same length, then the function should print both the strings line\n",
    "by line."
   ]
  },
  {
   "cell_type": "code",
   "execution_count": 18,
   "metadata": {},
   "outputs": [
    {
     "name": "stdout",
     "output_type": "stream",
     "text": [
      "abc\n",
      "abc\n"
     ]
    }
   ],
   "source": [
    "def foo1()->None:\n",
    "    str1=input(\"Enter a string: \")\n",
    "    str2=input(\"Enter another string: \")\n",
    "    l1,l2=len(str1),len(str2)\n",
    "    if l1>l2:\n",
    "        print(str1)\n",
    "    elif l2>l1:\n",
    "        print(str2)\n",
    "    elif l1==l2:\n",
    "        print(str1+\"\\n\"+str2)\n",
    "\n",
    "    return None\n",
    "foo1()"
   ]
  },
  {
   "cell_type": "markdown",
   "metadata": {},
   "source": [
    "8. Define a function which can generate and print a tuple where the values are square of numbers\n",
    "between 1 and 20 (both 1 and 20 included)."
   ]
  },
  {
   "cell_type": "code",
   "execution_count": 20,
   "metadata": {},
   "outputs": [
    {
     "name": "stdout",
     "output_type": "stream",
     "text": [
      "[1, 4, 9, 16, 25, 36, 49, 64, 81, 100, 121, 144, 169, 196, 225, 256, 289, 324, 361, 400]\n"
     ]
    }
   ],
   "source": [
    "def foo2()->tuple:\n",
    "    return (i**2 for i in range(1,21))\n",
    "\n",
    "print(list(foo2()))"
   ]
  },
  {
   "cell_type": "markdown",
   "metadata": {},
   "source": [
    "9. Write a function called showNumbers that takes a parameter called limit. It should print all the\n",
    "numbers between 0 and limit with a label to identify the even and odd numbers.\n",
    "Sample input: show Numbers(3) (where limit=3)\n",
    "Expected output:\n",
    "0 EVEN\n",
    "1 ODD\n",
    "2 EVEN\n",
    "3 ODD"
   ]
  },
  {
   "cell_type": "code",
   "execution_count": 21,
   "metadata": {},
   "outputs": [
    {
     "name": "stdout",
     "output_type": "stream",
     "text": [
      "0 EVEN\n",
      "1 ODD\n",
      "2 EVEN\n",
      "3 ODD\n",
      "4 EVEN\n",
      "5 ODD\n",
      "6 EVEN\n",
      "7 ODD\n",
      "8 EVEN\n",
      "9 ODD\n",
      "10 EVEN\n"
     ]
    }
   ],
   "source": [
    "def showNumbers(limit:int)->None:\n",
    "    for i in range(limit+1):\n",
    "        if i%2==0:\n",
    "            print(f\"{i} EVEN\")\n",
    "        else:\n",
    "            print(f\"{i} ODD\")\n",
    "    return None\n",
    "showNumbers(10)"
   ]
  },
  {
   "cell_type": "markdown",
   "metadata": {},
   "source": [
    "10. Write a program which uses filter() to make a list whose elements are even numbers between 1\n",
    "and 20 (both included)"
   ]
  },
  {
   "cell_type": "code",
   "execution_count": 22,
   "metadata": {},
   "outputs": [
    {
     "name": "stdout",
     "output_type": "stream",
     "text": [
      "[2, 4, 6]\n"
     ]
    }
   ],
   "source": [
    "def check_even(number)->bool:\n",
    "    return number%2==0\n",
    "\n",
    "numbers=[1,2,3,4,5,6]\n",
    "print(list(filter(check_even,numbers)))"
   ]
  },
  {
   "cell_type": "markdown",
   "metadata": {},
   "source": [
    "11. Write a program which uses map() and filter() to make a list whose elements are squares of even\n",
    "numbers in [1,2,3,4,5,6,7,8,9,10].\n",
    "Hints: Use filter() to filter even elements of the given listUse map() to generate a list of squares of the\n",
    "numbers in the filtered list. Use lambda() to define anonymous functions."
   ]
  },
  {
   "cell_type": "code",
   "execution_count": 23,
   "metadata": {},
   "outputs": [
    {
     "name": "stdout",
     "output_type": "stream",
     "text": [
      "[4, 16, 36]\n"
     ]
    }
   ],
   "source": [
    "# We'll use the check_even function from above\n",
    "def sqr_even(l:list)->list:\n",
    "    return list(map(lambda x:x**2,filter(check_even,l)))\n",
    "\n",
    "print(sqr_even([1,2,3,4,5,6]))"
   ]
  },
  {
   "cell_type": "markdown",
   "metadata": {},
   "source": [
    "12. Write a function to compute 5/0 and use try/except to catch the exceptions"
   ]
  },
  {
   "cell_type": "code",
   "execution_count": 24,
   "metadata": {},
   "outputs": [
    {
     "name": "stdout",
     "output_type": "stream",
     "text": [
      "division by zero\n"
     ]
    }
   ],
   "source": [
    "try:\n",
    "    print(5/0)\n",
    "except Exception as e:\n",
    "    print(e)"
   ]
  },
  {
   "cell_type": "markdown",
   "metadata": {},
   "source": [
    "13. Flatten the list [1,2,3,4,5,6,7] into 1234567 using reduce()."
   ]
  },
  {
   "cell_type": "code",
   "execution_count": 26,
   "metadata": {},
   "outputs": [
    {
     "name": "stdout",
     "output_type": "stream",
     "text": [
      "12345\n"
     ]
    }
   ],
   "source": [
    "from functools import reduce\n",
    "def flat(a,b)->str:\n",
    "    return f\"{a}\"+f\"{b}\"\n",
    "\n",
    "print(reduce(flat,[1,2,3,4,5]))"
   ]
  },
  {
   "cell_type": "markdown",
   "metadata": {},
   "source": [
    "14. Write a program in Python to find the values which are not divisible by 3 but are a multiple of 7.\n",
    "Make sure to use only higher order functions."
   ]
  },
  {
   "cell_type": "code",
   "execution_count": 44,
   "metadata": {},
   "outputs": [
    {
     "name": "stdout",
     "output_type": "stream",
     "text": [
      "[7, 14]\n"
     ]
    }
   ],
   "source": [
    "\n",
    "def foo3(l):\n",
    "    indices=list(map(lambda x:True if not x%3==0 and x%7==0 else False,l))\n",
    "    return [v for i,v in enumerate(l) if indices[i]]\n",
    "print(foo3([1,2,3,4,5,6,7,8,9,10,11,12,13,14,15,21]))\n"
   ]
  },
  {
   "cell_type": "markdown",
   "metadata": {},
   "source": [
    "15. Write a program in Python to multiply the elements of a list by itself using a traditional function\n",
    "and pass the function to map() to complete the operation."
   ]
  },
  {
   "cell_type": "code",
   "execution_count": 45,
   "metadata": {},
   "outputs": [
    {
     "name": "stdout",
     "output_type": "stream",
     "text": [
      "[1, 4, 9, 16, 25, 36, 49, 64, 81, 100, 121, 144, 169, 196, 225, 256, 289, 324, 361, 400]\n"
     ]
    }
   ],
   "source": [
    "def foo4(n):\n",
    "    return n**2\n",
    "print(list(map(foo4,range(1,21))))"
   ]
  },
  {
   "cell_type": "markdown",
   "metadata": {},
   "source": [
    "# question 16\n",
    "1. Since finally statement is executed before leaving the try statement function will return 2\n",
    "2. Continuing with the above logic, the function will run the finally statement and then will try to run the try block but will raise an exception since f is not defined. We could use except statement after try to catch the exception.\n"
   ]
  },
  {
   "cell_type": "markdown",
   "metadata": {},
   "source": []
  }
 ],
 "metadata": {
  "kernelspec": {
   "display_name": "activity_class",
   "language": "python",
   "name": "activity_class"
  },
  "language_info": {
   "codemirror_mode": {
    "name": "ipython",
    "version": 3
   },
   "file_extension": ".py",
   "mimetype": "text/x-python",
   "name": "python",
   "nbconvert_exporter": "python",
   "pygments_lexer": "ipython3",
   "version": "3.10.4"
  },
  "orig_nbformat": 4,
  "vscode": {
   "interpreter": {
    "hash": "ead1b95f633dc9c51826328e1846203f51a198c6fb5f2884a80417ba131d4e82"
   }
  }
 },
 "nbformat": 4,
 "nbformat_minor": 2
}
