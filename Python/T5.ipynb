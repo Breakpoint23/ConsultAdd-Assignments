{
 "cells": [
  {
   "cell_type": "markdown",
   "metadata": {},
   "source": [
    "1. Write a program in Python to allow the error of syntax to be handled using exception handling."
   ]
  },
  {
   "cell_type": "code",
   "execution_count": null,
   "metadata": {},
   "outputs": [],
   "source": [
    "def foo():\n",
    "    return None\n",
    "\n",
    "try:\n",
    "    foo()\n",
    "    # You can add your own code here\n",
    "except SyntaxError:\n",
    "    print(\"SyntaxError\")\n"
   ]
  },
  {
   "cell_type": "markdown",
   "metadata": {},
   "source": [
    "2. Write a program in Python to allow the user to open a file by using the argv module. If the\n",
    "entered name is incorrect throw an exception and ask them to enter the name again. Make sure\n",
    "to use read only mode."
   ]
  },
  {
   "cell_type": "code",
   "execution_count": null,
   "metadata": {},
   "outputs": [],
   "source": [
    "import sys,os\n",
    "\n",
    "try:\n",
    "    open(sys.argv[1], 'r')\n",
    "except FileNotFoundError:\n",
    "    print(\"File not found\")\n",
    "    print(\"Usage: python3 T5.py <filename>\"+\"\\n\"+\"Check the file name or the path\")\n",
    "    print(\"The current path is: \"+os.getcwd())\n",
    "    filename=input(\"Enter the file name again: \")\n",
    "    open(filename, 'r')\n"
   ]
  },
  {
   "cell_type": "markdown",
   "metadata": {},
   "source": [
    "3. Write a program to handle an error if the user entered a number more than four digits it should\n",
    "return “The length is too short/long !!! Please provide only four digits”"
   ]
  },
  {
   "cell_type": "code",
   "execution_count": null,
   "metadata": {},
   "outputs": [],
   "source": [
    "def foo1():\n",
    "    num=input(\"Enter a number less than 5 digits: \")\n",
    "    while len(num)>4 or not num.isdigit():\n",
    "        print(\"The number is invalid\"+\"\\n\"+\"The length is too long!! Please provide only 4 digits\")\n",
    "        num=input(\"Enter a number less than 5 digits: \")\n",
    "    \n",
    "    print(f\"The number is {num}\")"
   ]
  },
  {
   "cell_type": "markdown",
   "metadata": {},
   "source": [
    "4. Create a login page backend to ask users to enter the username and password. Make sure to\n",
    "ask for a Re-Type Password and if the password is incorrect give chance to enter it again but it\n",
    "should not be more than 3 times."
   ]
  },
  {
   "cell_type": "code",
   "execution_count": 4,
   "metadata": {},
   "outputs": [
    {
     "name": "stdout",
     "output_type": "stream",
     "text": [
      "username or password is incorrect! Try again\n",
      "Number of attempts left: 2\n",
      "username or password is incorrect! Try again\n",
      "Number of attempts left: 1\n",
      "username or password is incorrect! Try again\n",
      "Number of attempts left: 0\n",
      "Access denied\n"
     ]
    }
   ],
   "source": [
    "def foo2():\n",
    "    passwds={'user1':'passwd1', 'user2':'passwd2', 'user3':'passwd3'}\n",
    "    counter=0\n",
    "    while counter<3:\n",
    "        user=input(\"Enter the username: \")\n",
    "        passwd=input(\"Enter the password: \")\n",
    "        if user in passwds and passwd==passwds[user]:\n",
    "            print(\"Access granted\")\n",
    "            return None\n",
    "        else:\n",
    "            print(\"username or password is incorrect! Try again\")\n",
    "            print(f\"Number of attempts left: {2-counter}\")\n",
    "            counter+=1\n",
    "    print(\"Access denied\")\n",
    "    return None\n",
    "\n",
    "foo2()"
   ]
  },
  {
   "cell_type": "markdown",
   "metadata": {},
   "source": [
    "6. Read doc.txt file using Python File handling concept and return only the even length string from\n",
    "the file. Consider the content of doc.txt as given below:\n",
    "Hello I am a file\n",
    "Where you need to return the data string\n",
    "Which is of even length\n",
    "Make sure you return the content in The same link as it is present."
   ]
  },
  {
   "cell_type": "code",
   "execution_count": 7,
   "metadata": {},
   "outputs": [
    {
     "name": "stdout",
     "output_type": "stream",
     "text": [
      "['Hello I am a file', 'Where you need to return the data string', 'which is pof even length', 'Make sure you return the content in the same link as it is present', '']\n"
     ]
    }
   ],
   "source": [
    "def foo3():\n",
    "    ans=[]\n",
    "    with open(\"doc.txt\",\"r\") as f:\n",
    "        content=f.read().split(\"\\n\")\n",
    "    for string in content:\n",
    "        if  not len(string)%2:\n",
    "            ans.append(string)\n",
    "    return ans\n"
   ]
  },
  {
   "cell_type": "markdown",
   "metadata": {},
   "source": []
  }
 ],
 "metadata": {
  "kernelspec": {
   "display_name": "activity_class",
   "language": "python",
   "name": "activity_class"
  },
  "language_info": {
   "codemirror_mode": {
    "name": "ipython",
    "version": 3
   },
   "file_extension": ".py",
   "mimetype": "text/x-python",
   "name": "python",
   "nbconvert_exporter": "python",
   "pygments_lexer": "ipython3",
   "version": "3.10.4"
  },
  "orig_nbformat": 4,
  "vscode": {
   "interpreter": {
    "hash": "ead1b95f633dc9c51826328e1846203f51a198c6fb5f2884a80417ba131d4e82"
   }
  }
 },
 "nbformat": 4,
 "nbformat_minor": 2
}
