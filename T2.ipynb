{
 "cells": [
  {
   "cell_type": "markdown",
   "metadata": {},
   "source": [
    "1. Write a program in Python to perform the following operation:\n",
    "    - If a number is divisible by 3 it should print “Consultadd” as a string\n",
    "    - If a number is divisible by 5 it should print “Python Training” as a string\n",
    "    - If a number is divisible by both 3 and 5 it should print “Consultadd - Python Training” as a"
   ]
  },
  {
   "cell_type": "code",
   "execution_count": null,
   "metadata": {},
   "outputs": [],
   "source": [
    "def check(x):\n",
    "    a=x%3\n",
    "    b=x%5\n",
    "    if a and b:\n",
    "        print(\"Consultadd-Python Training\")\n",
    "        return None\n",
    "    elif a:\n",
    "        print(\"Consultadd\")\n",
    "        return None\n",
    "    elif b:\n",
    "        print(\"Python Training\")\n",
    "        return None\n",
    "    else:\n",
    "        print(\"Number is divisible by 3 or 5\")\n",
    "        return None\n",
    "        "
   ]
  },
  {
   "cell_type": "markdown",
   "metadata": {},
   "source": [
    "2. Write a program in Python to perform the following operator based task:\n",
    "- Ask user to choose the following option first:\n",
    "    - If User Enter 1 - Addition\n",
    "    - If User Enter 2 - Subtraction\n",
    "    - If User Enter 3 - Division\n",
    "    - If User Enter 4 - Multiplication\n",
    "    - If User Enter 5 - Average\n",
    "- Ask user to enter two numbers and keep those numbers in variables num1 and num2 respectively for the first 4 options mentioned above.\n",
    "- Ask the user to enter two more numbers as first and second for calculating the average as soon as the user chooses an option 5.\n",
    "- At the end if the answer of any operation is Negative print a statement saying “NEGATIVE”\n",
    "NOTE: At a time a user can only perform one action."
   ]
  },
  {
   "cell_type": "code",
   "execution_count": null,
   "metadata": {},
   "outputs": [],
   "source": [
    "def Operations():\n",
    "    repeat=\"\"\n",
    "    l=[1,2,3,4]\n",
    "    while repeat!=\"n\":\n",
    "        op=int(input(\"Enter 1 for addition, 2 for subtraction, 3 for division, 4 for multiplication and 5 for Average: \"))\n",
    "        if op in l:\n",
    "            num1=int(input(\"Enter first number: \"))\n",
    "            num2=int(input(\"Enter second number: \"))\n",
    "            if op==1:\n",
    "                result=num1+num2\n",
    "            elif op==2:\n",
    "                result=num1-num2\n",
    "            elif op==3:\n",
    "                result=num1/num2\n",
    "            elif op==4:\n",
    "                result=num1*num2\n",
    "        elif op==5:\n",
    "            result=(num1+num2)/2\n",
    "        print(\"Result: \",result)\n",
    "        if result<0:\n",
    "            print(\"Result is negative\")\n",
    "        repeat=input(\"Do you want to repeat? (y/n): \")"
   ]
  },
  {
   "cell_type": "markdown",
   "metadata": {},
   "source": [
    "3. Write a program to follow certain flow-chart"
   ]
  },
  {
   "cell_type": "code",
   "execution_count": null,
   "metadata": {},
   "outputs": [],
   "source": []
  }
 ],
 "metadata": {
  "language_info": {
   "name": "python"
  },
  "orig_nbformat": 4
 },
 "nbformat": 4,
 "nbformat_minor": 2
}
