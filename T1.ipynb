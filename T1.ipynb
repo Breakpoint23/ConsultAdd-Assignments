{
 "cells": [
  {
   "cell_type": "markdown",
   "metadata": {},
   "source": [
    "1. Create three variables in a single line and assign values to them in such a manner that each one of\n",
    "them belongs to a different data type."
   ]
  },
  {
   "cell_type": "code",
   "execution_count": null,
   "metadata": {},
   "outputs": [],
   "source": [
    "a,b,c=1.0,1,True"
   ]
  },
  {
   "cell_type": "markdown",
   "metadata": {},
   "source": [
    "2. Create a variable of type complex and swap it with another variable of type integer."
   ]
  },
  {
   "cell_type": "code",
   "execution_count": null,
   "metadata": {},
   "outputs": [],
   "source": [
    "a=complex(1,0)\n",
    "b=1\n",
    "print(a,b)\n",
    "a,b=b,a\n",
    "print(a,b)"
   ]
  },
  {
   "cell_type": "markdown",
   "metadata": {},
   "source": [
    "3. Swap two numbers using a third variable and do the same task without using any third variable."
   ]
  },
  {
   "cell_type": "code",
   "execution_count": null,
   "metadata": {},
   "outputs": [],
   "source": [
    "# With temporary variables\n",
    "a=5\n",
    "b=10\n",
    "print(a,b)\n",
    "temp=a\n",
    "a=b\n",
    "b=temp\n",
    "print(a,b)\n",
    "\n",
    "# Without temporary variables\n",
    "a,b=b,a\n",
    "print(a,b)"
   ]
  },
  {
   "cell_type": "markdown",
   "metadata": {},
   "source": [
    "4. Write a program that takes input from the user and prints it using both Python 2.x and Python 3.x\n",
    "Version."
   ]
  },
  {
   "cell_type": "code",
   "execution_count": null,
   "metadata": {},
   "outputs": [],
   "source": [
    "try:\n",
    "    raw_input=input\n",
    "except NameError:\n",
    "    pass\n",
    "\n",
    "ans=raw_input(\"Enter a number: \")\n",
    "print(ans)\n"
   ]
  },
  {
   "cell_type": "markdown",
   "metadata": {},
   "source": [
    "5. Write a program to complete the task given below:\n",
    "Ask users to enter any 2 numbers in between 1-10 , add the two numbers and keep the sum in\n",
    "another variable called z. Add 30 to z and store the output in variable result and print result as the\n",
    "final output."
   ]
  },
  {
   "cell_type": "code",
   "execution_count": null,
   "metadata": {},
   "outputs": [],
   "source": [
    "a=int(input(\"Enter a number between 1-10: \"))\n",
    "b=int(input(\"Enter a number between 1-10: \"))\n",
    "z=a+b\n",
    "result=z+30\n",
    "print(result)"
   ]
  },
  {
   "cell_type": "markdown",
   "metadata": {},
   "source": [
    "6. Write a program to check the data type of the entered values."
   ]
  },
  {
   "cell_type": "code",
   "execution_count": null,
   "metadata": {},
   "outputs": [],
   "source": [
    "def type_of_var(var):\n",
    "    print(f\"Type of {var} is {type(var)}\")\n",
    "    return None\n",
    "    "
   ]
  },
  {
   "cell_type": "markdown",
   "metadata": {},
   "source": [
    "7. Create Variables using formats such as Upper CamelCase, Lower CamelCase, SnakeCase and\n",
    "UPPERCASE."
   ]
  },
  {
   "cell_type": "code",
   "execution_count": null,
   "metadata": {},
   "outputs": [],
   "source": [
    "lowerCamelCase=\"lowerCamelCase\"\n",
    "UpperCamelCase=\"UpperCamelCase\"\n",
    "snake_case=\"snake_case\"\n",
    "UPPERCASE=\"UPPERCASE\""
   ]
  },
  {
   "cell_type": "markdown",
   "metadata": {},
   "source": [
    "8. If one data type value is assigned to ‘a’ variable and then a different data type value is assigned to ‘a’\n",
    "again. Will it change the value? If Yes then Why?"
   ]
  },
  {
   "cell_type": "code",
   "execution_count": null,
   "metadata": {},
   "outputs": [],
   "source": [
    "a=1\n",
    "print(a,type(a))\n",
    "a=1.0\n",
    "print(a,type(a))"
   ]
  }
 ],
 "metadata": {
  "language_info": {
   "name": "python"
  },
  "orig_nbformat": 4
 },
 "nbformat": 4,
 "nbformat_minor": 2
}
